{
 "cells": [
  {
   "cell_type": "code",
   "execution_count": 1,
   "metadata": {
    "collapsed": true
   },
   "outputs": [],
   "source": [
    "from gensim.models import Word2Vec\n",
    "import logging\n",
    "import json\n",
    "from collections import Counter\n",
    "import snowballstemmer, nltk\n",
    "from nltk.corpus import stopwords\n",
    "from string import ascii_lowercase\n",
    "\n",
    "logging.basicConfig(format = '%(asctime)s %(message)s')"
   ]
  },
  {
   "cell_type": "code",
   "execution_count": 2,
   "metadata": {
    "collapsed": true
   },
   "outputs": [],
   "source": [
    "def word2vec_training(tokens, out_path):\n",
    "    model = Word2Vec(workers=4, size=300)\n",
    "\n",
    "    logging.warning('corpus has been loaded')\n",
    "\n",
    "\n",
    "    token_num = sum(1 for token in tokens)\n",
    "    a = \"total_token = \" + str(token_num)\n",
    "    logging.warning(a)\n",
    "\n",
    "    logging.warning('build vocab start')\n",
    "    model.build_vocab(tokens)\n",
    "\n",
    "    logging.warning('training model start')\n",
    "\n",
    "    model.train(tokens, total_examples=token_num, epochs=model.iter)\n",
    "\n",
    "    logging.warning('training model has been finished')\n",
    "    model.wv.save_word2vec_format(out_path, binary = True)"
   ]
  },
  {
   "cell_type": "code",
   "execution_count": 4,
   "metadata": {
    "collapsed": true,
    "scrolled": true
   },
   "outputs": [],
   "source": [
    "with open(\"data/data.json\",'r') as f:\n",
    "    data = json.load(f)"
   ]
  },
  {
   "cell_type": "code",
   "execution_count": 5,
   "metadata": {
    "collapsed": true
   },
   "outputs": [],
   "source": [
    "sentences = []\n",
    "for doc in data.keys():\n",
    "    sentences += data[doc]['title']\n",
    "    sentences += data[doc]['abstract']\n",
    "    sentences += data[doc]['introduction']"
   ]
  },
  {
   "cell_type": "code",
   "execution_count": 6,
   "metadata": {
    "collapsed": true
   },
   "outputs": [],
   "source": [
    "sentences = [sentence.lower() for sentence in sentences]"
   ]
  },
  {
   "cell_type": "code",
   "execution_count": 7,
   "metadata": {},
   "outputs": [
    {
     "name": "stdout",
     "output_type": "stream",
     "text": [
      "{'am', 'among', 'l', 'these', 'this', 'below', 'one', 'further', 'll', 'an', 'yours', 'beside', 'theirs', 'whi', 'f', 'after', 'ma', 'above', 'what', 'than', 'here', 'to', 'wasn', 'y', 'four', 'hasn', 'however', 'in', 'c', 'for', 'too', 'herself', 'very', 'shan', 'so', 'don', 'their', 'u', 'doing', 'with', 'j', 'was', 'd', 'within', 'about', 'had', 'ani', 'needn', 'which', 'z', 'did', 'nor', 'seven', 'now', 'abov', 'haven', 'should', 'whom', 'from', 'under', 'onli', 'only', 'once', 'over', 'until', 'up', 'yourselves', 'while', 'our', 'k', 'six', 'just', 'becaus', 'he', 'they', 'yourself', 'because', 'who', 'ten', 'doesn', 'hers', 'then', 'o', 'ain', 'when', 'yourselv', 'between', 'does', 'your', 'or', 'some', 'most', 'won', 'been', 'mightn', 'into', 'doe', 'the', 'is', 'through', 'that', 'a', 'onc', 'but', 'there', 'all', 'hadn', 'of', 'on', 'its', 'befor', 'by', 'wouldn', 'e', 'same', 'her', 'against', 'own', 'him', 'itself', 'them', 'out', 'veri', 'as', 'aren', 'nine', 'it', 'will', 't', 'having', 'do', 'may', 'didn', 'if', 'ourselves', 'w', 'couldn', 'both', 'his', 'we', 'themselv', 'h', 'not', 're', 'also', 'across', 'me', 'be', 'ourselv', 'during', 'those', 'besid', 'dure', 'and', 'p', 'isn', 'ours', 'has', 'no', 'zero', 'how', 'g', 'howev', 'five', 'three', 'other', 'are', 'eight', 'any', 'were', 'where', 'each', 'x', 'r', 've', 'n', 'my', 'shouldn', 's', 'you', 'why', 'before', 'such', 'b', 'themselves', 'being', 'off', 'can', 'few', 'at', 'q', 'two', 'i', 'v', 'himself', 'm', 'myself', 'she', 'have', 'down', 'more', 'yet', 'weren', 'mustn', 'again'}\n"
     ]
    }
   ],
   "source": [
    "stemmer = snowballstemmer.EnglishStemmer()\n",
    "\n",
    "stop = stopwords.words('english')\n",
    "stop.extend(['may','also','zero','one','two','three','four','five','six','seven','eight','nine','ten','across','among','beside','however','yet','within']+list(ascii_lowercase))\n",
    "stoplist = stemmer.stemWords(stop)\n",
    "stoplist = set(stoplist)\n",
    "stop = set(sorted(stop + list(stoplist))) \n",
    "print(stop)"
   ]
  },
  {
   "cell_type": "code",
   "execution_count": 8,
   "metadata": {
    "collapsed": true
   },
   "outputs": [],
   "source": [
    "sentences = [sentence.split() for sentence in sentences]"
   ]
  },
  {
   "cell_type": "code",
   "execution_count": 9,
   "metadata": {},
   "outputs": [
    {
     "data": {
      "text/plain": [
       "6134"
      ]
     },
     "execution_count": 9,
     "metadata": {},
     "output_type": "execute_result"
    }
   ],
   "source": [
    "len(sentences)"
   ]
  },
  {
   "cell_type": "code",
   "execution_count": null,
   "metadata": {
    "collapsed": true
   },
   "outputs": [],
   "source": [
    "sum(len(setence) for setence in sentences)/len(sentences)"
   ]
  },
  {
   "cell_type": "code",
   "execution_count": null,
   "metadata": {
    "collapsed": true
   },
   "outputs": [],
   "source": [
    "max([len(setence) for setence in sentences])"
   ]
  },
  {
   "cell_type": "code",
   "execution_count": null,
   "metadata": {
    "collapsed": true
   },
   "outputs": [],
   "source": [
    "for sentence in sentences:\n",
    "    if len(sentence) > 200:\n",
    "        print(' '.join(sentence) + '\\n')"
   ]
  },
  {
   "cell_type": "code",
   "execution_count": 10,
   "metadata": {},
   "outputs": [
    {
     "data": {
      "text/plain": [
       "['multilingual', 'coreference', 'resolution']"
      ]
     },
     "execution_count": 10,
     "metadata": {},
     "output_type": "execute_result"
    }
   ],
   "source": [
    "pre_process_sentences = []\n",
    "for tokens in sentences:\n",
    "    tokens = [token.lower() for token in tokens if token.lower() not in stop]\n",
    "    #remove all stop words\n",
    "    tokens = [token for token in tokens if not token.isdigit()]\n",
    "    #remove all numbers\n",
    "    pre_process_sentences.append(tokens)\n",
    "pre_process_sentences[0]"
   ]
  },
  {
   "cell_type": "code",
   "execution_count": 11,
   "metadata": {
    "collapsed": true
   },
   "outputs": [],
   "source": [
    "full_token = []\n",
    "for sentence in pre_process_sentences:\n",
    "    full_token += sentence\n",
    "\n",
    "t_counter = Counter(full_token)\n",
    "final_setences = []\n",
    "\n",
    "for tokens in pre_process_sentences:\n",
    "    tokens = [token for token in tokens if t_counter[token] > 5]\n",
    "    final_setences.append(tokens)\n"
   ]
  },
  {
   "cell_type": "code",
   "execution_count": 15,
   "metadata": {},
   "outputs": [
    {
     "name": "stderr",
     "output_type": "stream",
     "text": [
      "2017-11-14 21:26:29,404 corpus has been loaded\n",
      "2017-11-14 21:26:29,405 total_token = 6134\n",
      "2017-11-14 21:26:29,405 build vocab start\n",
      "2017-11-14 21:26:29,484 training model start\n",
      "2017-11-14 21:26:29,788 under 10 jobs per worker: consider setting a smaller `batch_words' for smoother alpha decay\n",
      "2017-11-14 21:26:29,789 training model has been finished\n"
     ]
    }
   ],
   "source": [
    "word2vec_training(tokens = final_setences, out_path = \"only_paper_corpus.bin\")"
   ]
  },
  {
   "cell_type": "code",
   "execution_count": 16,
   "metadata": {},
   "outputs": [
    {
     "name": "stderr",
     "output_type": "stream",
     "text": [
      "2017-11-14 21:32:05,704 corpus has been loaded\n",
      "2017-11-14 21:32:05,705 total_token = 6134\n",
      "2017-11-14 21:32:05,706 build vocab start\n"
     ]
    }
   ],
   "source": [
    "intersect_model = Word2Vec(workers=4, size=300)\n",
    "\n",
    "logging.warning('corpus has been loaded')\n",
    "token_num = sum(1 for token in final_setences)\n",
    "a = \"total_token = \" + str(token_num)\n",
    "logging.warning(a)\n",
    "logging.warning('build vocab start')\n",
    "intersect_model.build_vocab(final_setences)"
   ]
  },
  {
   "cell_type": "code",
   "execution_count": 17,
   "metadata": {},
   "outputs": [
    {
     "data": {
      "text/plain": [
       "(2196017, 300)"
      ]
     },
     "execution_count": 17,
     "metadata": {},
     "output_type": "execute_result"
    }
   ],
   "source": [
    "from gensim.scripts import glove2word2vec\n",
    "\n",
    "glove2word2vec.glove2word2vec('glove.840B.300d.txt','glove.840B.300d.txt.word2vec')"
   ]
  },
  {
   "cell_type": "code",
   "execution_count": 18,
   "metadata": {
    "collapsed": true
   },
   "outputs": [],
   "source": [
    "intersect_model.intersect_word2vec_format(fname=\"glove.840B.300d.txt.word2vec\",binary=False)"
   ]
  },
  {
   "cell_type": "code",
   "execution_count": 19,
   "metadata": {},
   "outputs": [
    {
     "name": "stderr",
     "output_type": "stream",
     "text": [
      "2017-11-14 21:41:26,188 under 10 jobs per worker: consider setting a smaller `batch_words' for smoother alpha decay\n"
     ]
    },
    {
     "data": {
      "text/plain": [
       "319503"
      ]
     },
     "execution_count": 19,
     "metadata": {},
     "output_type": "execute_result"
    }
   ],
   "source": [
    "intersect_model.train(final_setences, total_examples=token_num, epochs=intersect_model.iter)"
   ]
  },
  {
   "cell_type": "code",
   "execution_count": 20,
   "metadata": {
    "collapsed": true
   },
   "outputs": [],
   "source": [
    "intersect_model.wv.save_word2vec_format(\"intersect_model_glove_840B.bin\", binary = True)"
   ]
  },
  {
   "cell_type": "code",
   "execution_count": 22,
   "metadata": {},
   "outputs": [
    {
     "name": "stdout",
     "output_type": "stream",
     "text": [
      "A00-1020\n"
     ]
    }
   ],
   "source": [
    "for key in data.keys():\n",
    "    print(key)\n",
    "    break"
   ]
  },
  {
   "cell_type": "code",
   "execution_count": 28,
   "metadata": {
    "collapsed": true
   },
   "outputs": [],
   "source": [
    "from rouge import Rouge \n",
    "\n",
    "doc = data[key]\n",
    "for line in doc['introduction']:\n",
    "    \n",
    "    intro_tokens = [token.lower() for token in line.split() if token.lower() not in stop]\n",
    "    intro_tokens = [token for token in intro_tokens if not token.isdigit()]\n",
    "\n",
    "    abstract = ' '.join([i for i in doc['abstract']])\n",
    "    abst_tokens = [token.lower() for token in abstract.split() if token.lower() not in stop]\n",
    "    abst_tokens = [token for token in abst_tokens if not token.isdigit()]\n",
    "    \n",
    "    ref = ' '.join(abst_tokens)\n",
    "    hyp = ' '.join(intro_tokens)\n",
    "    rouge = Rouge()\n",
    "    scores = rouge.get_scores(hyps=hyp, refs=ref)\n",
    "    label.append(scores)"
   ]
  },
  {
   "cell_type": "code",
   "execution_count": 42,
   "metadata": {
    "scrolled": true
   },
   "outputs": [
    {
     "data": {
      "text/plain": [
       "0.05405404967129327"
      ]
     },
     "execution_count": 42,
     "metadata": {},
     "output_type": "execute_result"
    }
   ],
   "source": [
    "label[0][0]['rouge-1']['f']"
   ]
  },
  {
   "cell_type": "code",
   "execution_count": 48,
   "metadata": {},
   "outputs": [],
   "source": [
    "doc = data[key]\n",
    "new_doc = dict()\n",
    "new_doc['introduction'] = []\n",
    "new_doc['introduction_label'] = []\n",
    "new_doc['abstract'] = []\n",
    "\n",
    "ref = ''\n",
    "for abst_line in doc['abstract']:\n",
    "    \n",
    "    abst_tokens = [token.lower() for token in abst_line.split() if token.lower() not in stop]\n",
    "    abst_tokens = [token for token in abst_tokens if not token.isdigit()]\n",
    "    \n",
    "    new_doc['abstract'].append(' '.join(abst_tokens))\n",
    "    ref += ' '.join(tokens)\n",
    "    \n",
    "for line in doc['introduction']: \n",
    "    \n",
    "    intro_tokens = [token.lower() for token in line.split() if token.lower() not in stop]\n",
    "    intro_tokens = [token for token in intro_tokens if not token.isdigit()]\n",
    "    \n",
    "    new_doc['introduction'].append(hyp)\n",
    "    hyp = ' '.join(intro_tokens)\n",
    "    \n",
    "    rouge = Rouge()\n",
    "    scores = rouge.get_scores(hyps=hyp, refs=ref)\n",
    "    del scores[0]['rouge-2']\n",
    "    new_doc['introduction_label'].append(scores[0])"
   ]
  },
  {
   "cell_type": "code",
   "execution_count": 50,
   "metadata": {
    "scrolled": true
   },
   "outputs": [],
   "source": [
    "new_data = dict()\n",
    "for key in data:\n",
    "    new_data[key] = dict()\n",
    "    doc = data[key]\n",
    "    new_data[key]['introduction'] = []\n",
    "    new_data[key]['introduction_label'] = []\n",
    "    new_data[key]['abstract'] = []\n",
    "\n",
    "    ref = ''\n",
    "    for abst_line in doc['abstract']:\n",
    "\n",
    "        abst_tokens = [token.lower() for token in abst_line.split() if token.lower() not in stop]\n",
    "        abst_tokens = [token for token in abst_tokens if not token.isdigit()]\n",
    "\n",
    "        new_data[key]['abstract'].append(' '.join(abst_tokens))\n",
    "        ref += ' '.join(tokens)\n",
    "\n",
    "    for line in doc['introduction']: \n",
    "\n",
    "        intro_tokens = [token.lower() for token in line.split() if token.lower() not in stop]\n",
    "        intro_tokens = [token for token in intro_tokens if not token.isdigit()]\n",
    "\n",
    "        new_data[key]['introduction'].append(hyp)\n",
    "        hyp = ' '.join(intro_tokens)\n",
    "\n",
    "        rouge = Rouge()\n",
    "        scores = rouge.get_scores(hyps=hyp, refs=ref)\n",
    "        del scores[0]['rouge-2']\n",
    "        new_data[key]['introduction_label'].append(scores[0])"
   ]
  },
  {
   "cell_type": "code",
   "execution_count": 52,
   "metadata": {
    "scrolled": true
   },
   "outputs": [],
   "source": [
    "with open('data/pre_process_labeled_data.json', 'w') as fp:\n",
    "    json.dump(new_data, fp)"
   ]
  }
 ],
 "metadata": {
  "kernelspec": {
   "display_name": "Python 3",
   "language": "python",
   "name": "python3"
  },
  "language_info": {
   "codemirror_mode": {
    "name": "ipython",
    "version": 3
   },
   "file_extension": ".py",
   "mimetype": "text/x-python",
   "name": "python",
   "nbconvert_exporter": "python",
   "pygments_lexer": "ipython3",
   "version": "3.6.1"
  }
 },
 "nbformat": 4,
 "nbformat_minor": 2
}
