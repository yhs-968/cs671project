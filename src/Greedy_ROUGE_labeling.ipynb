{
 "cells": [
  {
   "cell_type": "markdown",
   "metadata": {},
   "source": [
    "# Get documents"
   ]
  },
  {
   "cell_type": "code",
   "execution_count": 1,
   "metadata": {
    "collapsed": true
   },
   "outputs": [],
   "source": [
    "csv_f = './data/news_summary.csv'\n",
    "import pandas as pd\n",
    "df = pd.read_csv(csv_f, encoding='latin1')"
   ]
  },
  {
   "cell_type": "code",
   "execution_count": 2,
   "metadata": {},
   "outputs": [
    {
     "data": {
      "text/plain": [
       "'The Daman and Diu administration on Wednesday withdrew a circular that asked women staff to tie rakhis on male colleagues after the order triggered a backlash from employees and was ripped apart on social media.The union territory?s administration was forced to retreat within 24 hours of issuing the circular that made it compulsory for its staff to celebrate Rakshabandhan at workplace.?It has been decided to celebrate the festival of Rakshabandhan on August 7. In this connection, all offices/ departments shall remain open and celebrate the festival collectively at a suitable time wherein all the lady staff shall tie rakhis to their colleagues,? the order, issued on August 1 by Gurpreet Singh, deputy secretary (personnel), had said.To ensure that no one skipped office, an attendance report was to be sent to the government the next evening.The two notifications ? one mandating the celebration of Rakshabandhan (left) and the other withdrawing the mandate (right) ? were issued by the Daman and Diu administration a day apart. The circular was withdrawn through a one-line order issued late in the evening by the UT?s department of personnel and administrative reforms.?The circular is ridiculous. There are sensitivities involved. How can the government dictate who I should tie rakhi to? We should maintain the professionalism of a workplace? an official told Hindustan Times earlier in the day. She refused to be identified.The notice was issued on Daman and Diu administrator and former Gujarat home minister Praful Kodabhai Patel?s direction, sources said.Rakshabandhan, a celebration of the bond between brothers and sisters, is one of several Hindu festivities and rituals that are no longer confined of private, family affairs but have become tools to push politic al ideologies.In 2014, the year BJP stormed to power at the Centre, Rashtriya Swayamsevak Sangh (RSS) chief Mohan Bhagwat said the festival had ?national significance? and should be celebrated widely ?to protect Hindu culture and live by the values enshrined in it?. The RSS is the ideological parent of the ruling BJP.Last year, women ministers in the Modi government went to the border areas to celebrate the festival with soldiers. A year before, all cabinet ministers were asked to go to their constituencies for the festival.'"
      ]
     },
     "execution_count": 2,
     "metadata": {},
     "output_type": "execute_result"
    }
   ],
   "source": [
    "title = df['headlines'].values.tolist()\n",
    "summary = df['text'].values.tolist()\n",
    "content = df['ctext'].values.tolist()\n",
    "content[0]"
   ]
  },
  {
   "cell_type": "markdown",
   "metadata": {
    "collapsed": true
   },
   "source": [
    "# Calculate the ROUGE score and label the sentences"
   ]
  },
  {
   "cell_type": "code",
   "execution_count": null,
   "metadata": {},
   "outputs": [],
   "source": [
    "from modules.data import GreedyLabeler\n",
    "\n",
    "def save_label(l_type, summary, content):\n",
    "    import pickle\n",
    "    labels = []\n",
    "    gl = GreedyLabeler()\n",
    "    for s, c in zip(summary, content):\n",
    "        try:\n",
    "            labels.append(gl.label(s, c, l_type, epsilon = 0))\n",
    "        except Exception as e:\n",
    "            print(e)\n",
    "    with open('./data/extract_label%s' % l_type, 'bw') as f:\n",
    "        pickle.dump(labels, f)\n",
    "        \n",
    "save_label(1, summary, content)\n",
    "save_label(2, summary, content)\n",
    "save_label('l', summary, content)"
   ]
  },
  {
   "cell_type": "code",
   "execution_count": 7,
   "metadata": {},
   "outputs": [
    {
     "name": "stdout",
     "output_type": "stream",
     "text": [
      "The Administration of Union Territory Daman and Diu has revoked its order that made it compulsory for women to tie rakhis to their male colleagues on the occasion of Rakshabandhan on August 7. The administration was forced to withdraw the decision within 24 hours of issuing the circular after it received flak from employees and was slammed on social media.\n",
      "The Daman and Diu administration on Wednesday withdrew a circular that asked women staff to tie rakhis on male colleagues after the order triggered a backlash from employees and was ripped apart on social media.The union territory?s administration was forced to retreat within 24 hours of issuing the circular that made it compulsory for its staff to celebrate Rakshabandhan at workplace.\n",
      "?It has been decided to celebrate the festival of Rakshabandhan on August 7.\n",
      "were issued by the Daman and Diu administration a day apart.\n",
      "?The circular is ridiculous.\n",
      "There are sensitivities involved.\n"
     ]
    }
   ],
   "source": [
    "# from modules.data import GreedyLabeler\n",
    "# from nltk import sent_tokenize\n",
    "\n",
    "# gl = GreedyLabeler()\n",
    "# print(summary[0])\n",
    "# for i, v in enumerate(gl.label(summary[0], content[0], l_type = '2', epsilon = 0)):\n",
    "#     if v == 1:\n",
    "#         print(sent_tokenize(content[0])[i])"
   ]
  },
  {
   "cell_type": "code",
   "execution_count": 6,
   "metadata": {},
   "outputs": [],
   "source": [
    "# class GreedyLabeler():\n",
    "#     '''\n",
    "#     Greedy Labeling using ROUGE F-scores\n",
    "#     '''\n",
    "    \n",
    "#     def __init__(self):\n",
    "#         from rouge import Rouge\n",
    "#         self.rouge = Rouge()\n",
    "        \n",
    "#     def label(self, reference, corpus, l_type = '1', epsilon = 0.1):\n",
    "#         '''\n",
    "#         Args:\n",
    "#             reference (str): reference summary\n",
    "#             corpus (str): corpus to label\n",
    "#             l_type (str)= label type. 1, 2, or L\n",
    "#             epsilon (float): threshold value for stopping the greedy addition\n",
    "#         '''\n",
    "#         from nltk import sent_tokenize\n",
    "        \n",
    "#         # Handle label Types\n",
    "#         if type(l_type) == int:\n",
    "#             l_type = str(l_type)\n",
    "#         l_type = l_type.lower()\n",
    "        \n",
    "#         # Initialize\n",
    "#         ## candidate sentences\n",
    "#         cand_s = sent_tokenize(corpus)\n",
    "#         ## indices for candidate sentences\n",
    "#         cand_i = set([i for i in range(len(cand_s))])\n",
    "        \n",
    "#         label = [0 for i in range(len(cand_s))]\n",
    "        \n",
    "#         max_improvement = 1\n",
    "#         best_score = 0\n",
    "        \n",
    "#         while len(cand_i) > 0:\n",
    "#             new_summary = [' '.join(summary_set + [sent]) for sent in cand_s]\n",
    "#             # ROUGE scores for each new summaries\n",
    "#             score = [rouge.get_scores(reference, s, avg = True)['rouge-%s' % l_type]['f'] for s in new_summary]\n",
    "#             # improvement in ROUGE scores by adding new summaries\n",
    "#             ds = [s - best_score for s in score]\n",
    "#             # best improvement\n",
    "#             max_i, max_improvement = max([(i, d) for i, d in enumerate(ds) if i in cand_i],\n",
    "#                                          key = lambda x:x[1])\n",
    "#             # no more desired improvements\n",
    "#             if max_improvement <= epsilon:\n",
    "#                 break\n",
    "#             else:\n",
    "#                 label[max_i] = 1\n",
    "#                 cand_i.remove(max_i)\n",
    "#                 print(cand_i)\n",
    "                \n",
    "#         return label\n",
    "\n"
   ]
  }
 ],
 "metadata": {
  "kernelspec": {
   "display_name": "Python 3",
   "language": "python",
   "name": "python3"
  },
  "language_info": {
   "codemirror_mode": {
    "name": "ipython",
    "version": 3
   },
   "file_extension": ".py",
   "mimetype": "text/x-python",
   "name": "python",
   "nbconvert_exporter": "python",
   "pygments_lexer": "ipython3",
   "version": "3.5.4"
  }
 },
 "nbformat": 4,
 "nbformat_minor": 2
}
