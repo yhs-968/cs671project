{
 "cells": [
  {
   "cell_type": "markdown",
   "metadata": {},
   "source": [
    "Load the pretrained vector into the memory"
   ]
  },
  {
   "cell_type": "code",
   "execution_count": 1,
   "metadata": {},
   "outputs": [
    {
     "name": "stdout",
     "output_type": "stream",
     "text": [
      "The pretrained vector file to use: /home/yhs/data/NLP/word_embeddings/GloVe/glove.6B.300d.txt\n",
      "The number of words in the pretrained vector: 400000\n",
      "The dimension of the pretrained vector: 300\n"
     ]
    }
   ],
   "source": [
    "from modules.texts import GloVeLoader\n",
    "import os\n",
    "\n",
    "path_glove = os.path.join(os.path.expanduser('~'),\n",
    "             'data/NLP/word_embeddings/GloVe/glove.6B.300d.txt')\n",
    "glove = GloVeLoader(path_glove)"
   ]
  },
  {
   "cell_type": "markdown",
   "metadata": {},
   "source": [
    "Load the dataset"
   ]
  },
  {
   "cell_type": "code",
   "execution_count": 2,
   "metadata": {
    "collapsed": true
   },
   "outputs": [],
   "source": [
    "from modules.texts import Vocab\n",
    "\n",
    "file = './data/Trump.txt'\n",
    "\n",
    "with open(file) as f:\n",
    "    vocab = Vocab(f.read())\n",
    "\n",
    "# Load the word embeddings\n",
    "import torch\n",
    "import torch.nn as nn\n",
    "\n",
    "d = 300\n",
    "emb = nn.Embedding(vocab.V, d)\n",
    "for word in vocab.word2id:\n",
    "    try:\n",
    "        emb.weight.data[vocab[word]] = torch.from_numpy(glove[word])\n",
    "    except KeyError as e:\n",
    "        # Case when pretrained embedding for a word does not exist\n",
    "        pass\n",
    "\n",
    "# emb.weight.requires_grad = False # suppress updates"
   ]
  },
  {
   "cell_type": "code",
   "execution_count": 13,
   "metadata": {},
   "outputs": [
    {
     "ename": "TypeError",
     "evalue": "'int' object is not subscriptable",
     "output_type": "error",
     "traceback": [
      "\u001b[0;31m---------------------------------------------------------------------------\u001b[0m",
      "\u001b[0;31mTypeError\u001b[0m                                 Traceback (most recent call last)",
      "\u001b[0;32m<ipython-input-13-2fa2a5297f3f>\u001b[0m in \u001b[0;36m<module>\u001b[0;34m()\u001b[0m\n\u001b[1;32m     42\u001b[0m         \u001b[0;32mreturn\u001b[0m \u001b[0mlen\u001b[0m\u001b[0;34m(\u001b[0m\u001b[0mself\u001b[0m\u001b[0;34m.\u001b[0m\u001b[0minputs\u001b[0m\u001b[0;34m)\u001b[0m\u001b[0;34m\u001b[0m\u001b[0m\n\u001b[1;32m     43\u001b[0m \u001b[0;34m\u001b[0m\u001b[0m\n\u001b[0;32m---> 44\u001b[0;31m \u001b[0mdoc\u001b[0m \u001b[0;34m=\u001b[0m \u001b[0mDocumentDataset\u001b[0m\u001b[0;34m(\u001b[0m\u001b[0mfile\u001b[0m\u001b[0;34m,\u001b[0m \u001b[0mvocab\u001b[0m\u001b[0;34m)\u001b[0m\u001b[0;34m\u001b[0m\u001b[0m\n\u001b[0m\u001b[1;32m     45\u001b[0m \u001b[0mdocloader\u001b[0m \u001b[0;34m=\u001b[0m \u001b[0mDataLoader\u001b[0m\u001b[0;34m(\u001b[0m\u001b[0mdoc\u001b[0m\u001b[0;34m,\u001b[0m \u001b[0mbatch_size\u001b[0m\u001b[0;34m=\u001b[0m\u001b[0;36m1\u001b[0m\u001b[0;34m,\u001b[0m \u001b[0mshuffle\u001b[0m\u001b[0;34m=\u001b[0m\u001b[0;32mFalse\u001b[0m\u001b[0;34m)\u001b[0m\u001b[0;34m\u001b[0m\u001b[0m\n\u001b[1;32m     46\u001b[0m \u001b[0;34m\u001b[0m\u001b[0m\n",
      "\u001b[0;32m<ipython-input-13-2fa2a5297f3f>\u001b[0m in \u001b[0;36m__init__\u001b[0;34m(self, filename, vocab, case_sensitive)\u001b[0m\n\u001b[1;32m     31\u001b[0m         \u001b[0mself\u001b[0m\u001b[0;34m.\u001b[0m\u001b[0minputs\u001b[0m \u001b[0;34m=\u001b[0m \u001b[0mvocab\u001b[0m\u001b[0;34m.\u001b[0m\u001b[0msents2id\u001b[0m\u001b[0;34m(\u001b[0m\u001b[0mraw\u001b[0m\u001b[0;34m,\u001b[0m \u001b[0mcase_sensitive\u001b[0m\u001b[0;34m)\u001b[0m\u001b[0;34m\u001b[0m\u001b[0m\n\u001b[1;32m     32\u001b[0m         \u001b[0mnp\u001b[0m\u001b[0;34m.\u001b[0m\u001b[0mrandom\u001b[0m\u001b[0;34m.\u001b[0m\u001b[0mseed\u001b[0m\u001b[0;34m(\u001b[0m\u001b[0;36m0\u001b[0m\u001b[0;34m)\u001b[0m\u001b[0;34m\u001b[0m\u001b[0m\n\u001b[0;32m---> 33\u001b[0;31m         \u001b[0mself\u001b[0m\u001b[0;34m.\u001b[0m\u001b[0mtargets\u001b[0m \u001b[0;34m=\u001b[0m \u001b[0;34m[\u001b[0m\u001b[0mnp\u001b[0m\u001b[0;34m.\u001b[0m\u001b[0mrandom\u001b[0m\u001b[0;34m.\u001b[0m\u001b[0mrandint\u001b[0m\u001b[0;34m(\u001b[0m\u001b[0;36m2\u001b[0m\u001b[0;34m)\u001b[0m\u001b[0;34m[\u001b[0m\u001b[0;36m0\u001b[0m\u001b[0;34m]\u001b[0m \u001b[0;32mfor\u001b[0m \u001b[0msent\u001b[0m \u001b[0;32min\u001b[0m \u001b[0mself\u001b[0m\u001b[0;34m.\u001b[0m\u001b[0minputs\u001b[0m\u001b[0;34m]\u001b[0m\u001b[0;34m\u001b[0m\u001b[0m\n\u001b[0m\u001b[1;32m     34\u001b[0m \u001b[0;34m\u001b[0m\u001b[0m\n\u001b[1;32m     35\u001b[0m     \u001b[0;32mdef\u001b[0m \u001b[0m__getitem__\u001b[0m\u001b[0;34m(\u001b[0m\u001b[0mself\u001b[0m\u001b[0;34m,\u001b[0m \u001b[0midx\u001b[0m\u001b[0;34m)\u001b[0m\u001b[0;34m:\u001b[0m\u001b[0;34m\u001b[0m\u001b[0m\n",
      "\u001b[0;32m<ipython-input-13-2fa2a5297f3f>\u001b[0m in \u001b[0;36m<listcomp>\u001b[0;34m(.0)\u001b[0m\n\u001b[1;32m     31\u001b[0m         \u001b[0mself\u001b[0m\u001b[0;34m.\u001b[0m\u001b[0minputs\u001b[0m \u001b[0;34m=\u001b[0m \u001b[0mvocab\u001b[0m\u001b[0;34m.\u001b[0m\u001b[0msents2id\u001b[0m\u001b[0;34m(\u001b[0m\u001b[0mraw\u001b[0m\u001b[0;34m,\u001b[0m \u001b[0mcase_sensitive\u001b[0m\u001b[0;34m)\u001b[0m\u001b[0;34m\u001b[0m\u001b[0m\n\u001b[1;32m     32\u001b[0m         \u001b[0mnp\u001b[0m\u001b[0;34m.\u001b[0m\u001b[0mrandom\u001b[0m\u001b[0;34m.\u001b[0m\u001b[0mseed\u001b[0m\u001b[0;34m(\u001b[0m\u001b[0;36m0\u001b[0m\u001b[0;34m)\u001b[0m\u001b[0;34m\u001b[0m\u001b[0m\n\u001b[0;32m---> 33\u001b[0;31m         \u001b[0mself\u001b[0m\u001b[0;34m.\u001b[0m\u001b[0mtargets\u001b[0m \u001b[0;34m=\u001b[0m \u001b[0;34m[\u001b[0m\u001b[0mnp\u001b[0m\u001b[0;34m.\u001b[0m\u001b[0mrandom\u001b[0m\u001b[0;34m.\u001b[0m\u001b[0mrandint\u001b[0m\u001b[0;34m(\u001b[0m\u001b[0;36m2\u001b[0m\u001b[0;34m)\u001b[0m\u001b[0;34m[\u001b[0m\u001b[0;36m0\u001b[0m\u001b[0;34m]\u001b[0m \u001b[0;32mfor\u001b[0m \u001b[0msent\u001b[0m \u001b[0;32min\u001b[0m \u001b[0mself\u001b[0m\u001b[0;34m.\u001b[0m\u001b[0minputs\u001b[0m\u001b[0;34m]\u001b[0m\u001b[0;34m\u001b[0m\u001b[0m\n\u001b[0m\u001b[1;32m     34\u001b[0m \u001b[0;34m\u001b[0m\u001b[0m\n\u001b[1;32m     35\u001b[0m     \u001b[0;32mdef\u001b[0m \u001b[0m__getitem__\u001b[0m\u001b[0;34m(\u001b[0m\u001b[0mself\u001b[0m\u001b[0;34m,\u001b[0m \u001b[0midx\u001b[0m\u001b[0;34m)\u001b[0m\u001b[0;34m:\u001b[0m\u001b[0;34m\u001b[0m\u001b[0m\n",
      "\u001b[0;31mTypeError\u001b[0m: 'int' object is not subscriptable"
     ]
    }
   ],
   "source": [
    "import os\n",
    "from os.path import join\n",
    "from nltk import sent_tokenize, wordpunct_tokenize\n",
    "from collections import Counter\n",
    "from itertools import chain\n",
    "from torch.utils.data import Dataset, DataLoader\n",
    "from torch.autograd import Variable\n",
    "import numpy as np\n",
    "\n",
    "class DocumentDataset(Dataset):\n",
    "    '''\n",
    "    Documents dataset.\n",
    "    '''\n",
    "    \n",
    "    def __init__(self, filename, vocab, case_sensitive = False):\n",
    "        '''\n",
    "        Args:\n",
    "            filename (string): full path of the document file\n",
    "            vocab (Vocab): Vocabulary class that contains the vocabulary for a corpus\n",
    "            emb (nn.Embedding): word embeddings corresponding to the words in words_dict\n",
    "            case_sensitive (bool): whether lower/uppercase letters differ\n",
    "        '''\n",
    "        \n",
    "        with open(filename) as f:\n",
    "            raw = f.read()\n",
    "        if not case_sensitive:\n",
    "            raw = raw.lower()\n",
    "        \n",
    "        self.vocab = vocab\n",
    "        # input sentences\n",
    "        self.inputs = vocab.sents2id(raw, case_sensitive)\n",
    "        np.random.seed(0)\n",
    "        self.targets = [np.random.randint(2) for sent in self.inputs]\n",
    "        \n",
    "    def __getitem__(self, idx):\n",
    "        inputs = torch.LongTensor(self.inputs[idx]) \n",
    "        targets = torch.LongTensor(self.targets[idx])\n",
    "        \n",
    "        return inputs, targets\n",
    "    \n",
    "    def __len__(self):\n",
    "        return len(self.inputs)   \n",
    "    \n",
    "doc = DocumentDataset(file, vocab)\n",
    "docloader = DataLoader(doc, batch_size=1, shuffle=False)\n",
    "\n",
    "for i,t in docloader:\n",
    "    print(emb(Variable(i)))"
   ]
  },
  {
   "cell_type": "markdown",
   "metadata": {},
   "source": [
    "For the CNN sentence encoder, I have modified [this code](https://github.com/Shawn1993/cnn-text-classification-pytorch)."
   ]
  },
  {
   "cell_type": "code",
   "execution_count": 4,
   "metadata": {
    "collapsed": true
   },
   "outputs": [],
   "source": [
    "import torch.nn.functional as F\n",
    "\n",
    "class SentenceEncoder(nn.Module):\n",
    "    \n",
    "    def __init__(self, vocab_size, emb_size, n_kernels, kernel_sizes, pretrained = None, static = False):\n",
    "        '''\n",
    "        Args:\n",
    "            vocab_size (int): size of the vocabulary\n",
    "            emb_size (int): dimension of word embeddings\n",
    "            n_kernels (int): the number of filters\n",
    "            kernel_sizes (int): a list of sliding windows to be used\n",
    "            static (bool): whether you want the embeddings to be updated or not\n",
    "        '''\n",
    "        super().__init__()\n",
    "        in_channels = 1\n",
    "        self.vocab_size = vocab_size\n",
    "        self.n_kernels = n_kernels\n",
    "        self.kernel_sizes = kernel_sizes\n",
    "\n",
    "        self.emb = nn.Embedding(vocab_size, emb_size)\n",
    "        self.init_emb(pretrained)\n",
    "        if static:\n",
    "            self.emb.weight.requires_grad = False\n",
    "        self.convs = nn.ModuleList(\n",
    "            [nn.Conv2d(in_channels, n_kernels, (h, emb_size))\n",
    "             for h in kernel_sizes])\n",
    "        \n",
    "        if torch.cuda.is_available():\n",
    "            self.cuda()\n",
    "    \n",
    "    def init_emb(self, emb_pretrained):\n",
    "        if emb_pretrained == None:\n",
    "            return\n",
    "        else:\n",
    "            self.emb.weight = nn.Parameter(emb_pretrained.weight.data)\n",
    "\n",
    "    def forward(self, s):\n",
    "        '''\n",
    "        Args:\n",
    "            s (seq_len): a sentence of type torch.LongTensor.\n",
    "            Each entries represent a word index.\n",
    "        '''\n",
    "        # (batch_size = 1, in_channel, seq_len, emb_size)\n",
    "        s = self.emb(s).unsqueeze(1)\n",
    "        \n",
    "        feature_map = [F.relu(conv(s)).squeeze(3)\n",
    "                       for conv in self.convs]\n",
    "        feature_pooled = [F.max_pool1d(c, c.size(2)).squeeze(2)\n",
    "                          for c in feature_map]\n",
    "        feature_pooled = torch.cat(feature_pooled, 1)\n",
    "        \n",
    "        return feature_pooled"
   ]
  },
  {
   "cell_type": "code",
   "execution_count": 9,
   "metadata": {},
   "outputs": [],
   "source": [
    "vocab_size = emb.weight.data.size(0)\n",
    "emb_size = emb.weight.data.size(1)\n",
    "n_kernels = 50\n",
    "kernel_sizes = [1,2,3,4,5]\n",
    "sentence_encoder = SentenceEncoder(vocab_size,\n",
    "                                   emb_size,\n",
    "                                   n_kernels,\n",
    "                                   kernel_sizes,\n",
    "                                   emb)\n",
    "\n",
    "sents = []\n",
    "for input, target in docloader:\n",
    "    ####WARNING: the elements of the kernel_sizes should be larger\n",
    "    #### than the minimum length of a sentence.\n",
    "    input = Variable(input).cuda()\n",
    "    sents.append(sentence_encoder(input))"
   ]
  },
  {
   "cell_type": "code",
   "execution_count": 10,
   "metadata": {},
   "outputs": [
    {
     "data": {
      "text/plain": [
       "Variable containing:\n",
       " 0.6579  0.5226  1.6746  ...   0.2967  0.8536  0.6642\n",
       " 0.4898  0.5226  1.6746  ...   0.1773  0.4255  0.7531\n",
       " 0.4898  0.5226  1.6746  ...   0.2306  0.6965  0.6155\n",
       "          ...             ⋱             ...          \n",
       " 0.4898  0.5226  1.6746  ...   0.2634  0.5600  0.5050\n",
       " 0.5785  0.5226  1.6746  ...   0.1486  0.6727  0.5038\n",
       " 0.4898  0.5226  1.6746  ...   0.1210  0.9029  0.4325\n",
       "[torch.cuda.FloatTensor of size 21x250 (GPU 0)]"
      ]
     },
     "execution_count": 10,
     "metadata": {},
     "output_type": "execute_result"
    }
   ],
   "source": [
    "torch.cat(sents, dim = 0)"
   ]
  }
 ],
 "metadata": {
  "kernelspec": {
   "display_name": "Python 3",
   "language": "python",
   "name": "python3"
  },
  "language_info": {
   "codemirror_mode": {
    "name": "ipython",
    "version": 3
   },
   "file_extension": ".py",
   "mimetype": "text/x-python",
   "name": "python",
   "nbconvert_exporter": "python",
   "pygments_lexer": "ipython3",
   "version": "3.5.4"
  }
 },
 "nbformat": 4,
 "nbformat_minor": 2
}
