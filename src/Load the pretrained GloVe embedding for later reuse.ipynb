{
 "cells": [
  {
   "cell_type": "code",
   "execution_count": 2,
   "metadata": {},
   "outputs": [
    {
     "name": "stdout",
     "output_type": "stream",
     "text": [
      "The pretrained vector file to use: /home/yhs/data/NLP/word_embeddings/GloVe/glove.6B.200d.txt\n",
      "The number of words in the pretrained vector: 400000\n",
      "The dimension of the pretrained vector: 200\n",
      "Initialized the word embeddings.\n"
     ]
    }
   ],
   "source": [
    "import os\n",
    "import numpy as np\n",
    "from modules.texts import Vocab, GloVeLoader\n",
    "from modules.data import Documents\n",
    "import torch\n",
    "import torch.nn as nn\n",
    "\n",
    "# Load the pretrained embedding into the memory\n",
    "path_glove = os.path.join(os.path.expanduser('~'),\n",
    "             'data/NLP/word_embeddings/GloVe/glove.6B.200d.txt')\n",
    "glove = GloVeLoader(path_glove)\n",
    "\n",
    "# Load the dataset\n",
    "doc_file = './data/kaggle_news_rouge1.pkl'\n",
    "docs = Documents(doc_file, vocab_size = 30000)\n",
    "docs.set_doc_classes(np.random.randint(2, size = len(docs)).tolist()) # attach random document labels\n",
    "vocab = docs.vocab\n",
    "\n",
    "d = 200\n",
    "emb = nn.Embedding(vocab.V, d)\n",
    "\n",
    "def init_emb(emb, vocab):\n",
    "    for word in vocab.word2id:\n",
    "        try:\n",
    "            emb.weight.data[vocab[word]] = torch.from_numpy(glove[word])\n",
    "        except KeyError as e:\n",
    "            # Case when pretrained embedding for a word does not exist\n",
    "            pass\n",
    "    # emb.weight.requires_grad = False # suppress updates\n",
    "    print('Initialized the word embeddings.')\n",
    "\n",
    "init_emb(emb, vocab)"
   ]
  }
 ],
 "metadata": {
  "kernelspec": {
   "display_name": "Python 3",
   "language": "python",
   "name": "python3"
  },
  "language_info": {
   "codemirror_mode": {
    "name": "ipython",
    "version": 3
   },
   "file_extension": ".py",
   "mimetype": "text/x-python",
   "name": "python",
   "nbconvert_exporter": "python",
   "pygments_lexer": "ipython3",
   "version": "3.5.4"
  }
 },
 "nbformat": 4,
 "nbformat_minor": 2
}
