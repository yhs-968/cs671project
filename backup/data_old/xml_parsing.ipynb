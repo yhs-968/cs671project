{
 "cells": [
  {
   "cell_type": "code",
   "execution_count": 1,
   "metadata": {
    "collapsed": true
   },
   "outputs": [],
   "source": [
    "from lxml import etree\n",
    "from glob import glob\n",
    "from tqdm import tqdm\n",
    "import logging\n",
    "import codecs\n",
    "import re\n",
    "from collections import OrderedDict\n",
    "\n",
    "logging.basicConfig(format = '%(asctime)s %(message)s')"
   ]
  },
  {
   "cell_type": "code",
   "execution_count": 2,
   "metadata": {
    "collapsed": true
   },
   "outputs": [],
   "source": [
    "xmls = sorted(glob(\"data-original/*.xml\"))\n",
    "txts = sorted(glob(\"data-original/*.txt\"))\n",
    "\n",
    "print(len(txts))"
   ]
  },
  {
   "cell_type": "code",
   "execution_count": 6,
   "metadata": {},
   "outputs": [
    {
     "name": "stderr",
     "output_type": "stream",
     "text": [
      "354it [00:00, 1760.58it/s]"
     ]
    },
    {
     "name": "stdout",
     "output_type": "stream",
     "text": [
      "A00-2032\n",
      "A92-1018\n",
      "C00-2095\n",
      "C02-1050\n",
      "C04-1091\n",
      "C08-1107\n",
      "C10-1070\n",
      "C10-2017\n",
      "C10-2023\n",
      "C10-2139\n",
      "C10-2164\n",
      "C10-2167\n",
      "C92-1060\n",
      "D09-1086\n",
      "D09-1101\n",
      "D10-1042\n",
      "D11-1056\n",
      "D11-1059\n",
      "D12-1003\n",
      "D12-1046\n",
      "D12-1086\n",
      "D12-1094\n",
      "D12-1125\n",
      "D12-1127\n",
      "D12-1133\n",
      "D13-1004\n",
      "D13-1031\n",
      "D13-1032\n",
      "D13-1033\n",
      "E06-1004\n",
      "E09-1025\n",
      "E09-1079\n",
      "E12-1054\n",
      "E95-1024\n",
      "E99-1024\n",
      "H05-1003\n",
      "I05-3030\n",
      "I08-1070\n",
      "I08-4009\n",
      "I08-4030\n",
      "J01-2002\n",
      "J01-3003\n",
      "J03-1005\n",
      "J04-1003\n",
      "J04-2003\n",
      "J04-4002\n",
      "J05-1004\n",
      "J06-1004\n",
      "J07-4005\n",
      "J09-3004\n",
      "J10-3003\n",
      "J11-1005\n",
      "J12-1003\n",
      "J13-1007\n",
      "J13-1008\n",
      "J13-1009\n",
      "J13-2001\n",
      "J93-2006\n",
      "J99-1004\n",
      "N03-1010\n",
      "N09-1007\n",
      "N09-1048\n",
      "N12-1045\n",
      "N13-1140\n",
      "P01-1027\n",
      "P03-1039\n",
      "P06-1005\n",
      "P06-1011\n",
      "P06-2094\n",
      "P06-2123\n",
      "P06128\n",
      "P07-1058\n",
      "P07-1106\n",
      "P07-2007\n",
      "P08-1078\n",
      "P09-1098\n",
      "P09-2063\n",
      "P10-1020\n",
      "P10-1068\n",
      "P10-1124\n",
      "P10-1142\n",
      "P10111\n",
      "P101167\n",
      "P11-1062\n",
      "P11-1087\n",
      "P11-1109\n",
      "P11-1159\n",
      "P11-2037\n",
      "P11-2122\n",
      "P11-2124\n",
      "P12-1013\n",
      "P12-1016\n",
      "P12-1027\n",
      "P12-2002\n",
      "P12-2023\n",
      "P12-2031\n",
      "P13-1059\n",
      "P13-1062\n",
      "P13-1107\n",
      "P13-1121\n",
      "P13-1131\n",
      "P13-1138\n",
      "P13-1150\n",
      "P13-2036\n",
      "P170300_w06\n",
      "P22324_w09\n",
      "P283_w09\n",
      "P59105ca\n",
      "P99-1051\n",
      "PE2006_p00\n",
      "PSS07_w06\n",
      "PTASL_n09\n",
      "Pcoling_D10\n",
      "Pmendt_w11\n",
      "Pmessage\n"
     ]
    },
    {
     "name": "stderr",
     "output_type": "stream",
     "text": [
      "\r",
      "500it [00:00, 1884.50it/s]"
     ]
    },
    {
     "name": "stdout",
     "output_type": "stream",
     "text": [
      "S0885\n",
      "W00-0733\n",
      "W01-1404\n",
      "W01-1407\n",
      "W01-1408\n",
      "W03-0423\n",
      "W03-0910\n",
      "W06-0118\n",
      "W07-0909\n",
      "W08-0335\n",
      "W08-0602\n",
      "W08-0703\n",
      "W10-1704\n",
      "W10-1727\n",
      "W10-3909\n",
      "W10-4135\n",
      "W10-4138\n",
      "W11-0301\n",
      "W11-1215\n",
      "W11-2135\n",
      "W11-2145\n",
      "W11-2147\n",
      "W11-2206\n",
      "W11-2605\n",
      "W12-1003\n",
      "W12-1914\n",
      "W12-3141\n",
      "W12-3144\n",
      "W12-4006\n",
      "W12-6201\n",
      "W12-6202\n",
      "W12-6205\n",
      "W12-6209\n",
      "W12-6211\n",
      "W12-6212\n",
      "W12-6213\n",
      "W13-2501\n",
      "W13-2512\n",
      "W13-4904\n",
      "W13-4916\n",
      "W13-4917\n",
      "W99-0503\n",
      "W99-0632\n",
      "225\n"
     ]
    },
    {
     "name": "stderr",
     "output_type": "stream",
     "text": [
      "\n"
     ]
    }
   ],
   "source": [
    "papers = dict()\n",
    "problem = []\n",
    "for index,xml in tqdm(enumerate(xmls)):\n",
    "    try:\n",
    "        key = xml.split('.')[0].split('/')[-1]\n",
    "        papers[key] = OrderedDict()\n",
    "        \n",
    "        with open(txts[index],'r') as  f:\n",
    "            paper_name = f.readline()\n",
    "            \n",
    "        paper_name = paper_name.strip()\n",
    "        paper_name = re.sub('[^A-Za-z0-9 ]+','',paper_name)\n",
    "        \n",
    "        if len(paper_name) > 100:\n",
    "            print(key)\n",
    "            raise AssertionError()\n",
    "        \n",
    "        papers[key]['title'] = [paper_name]\n",
    "        \n",
    "        papers[key]['abstract'] = []\n",
    "        papers[key]['introduction'] = []\n",
    "        \n",
    "        xml_code = \"\"\n",
    "        \n",
    "        with codecs.open(xml,'r',encoding='utf-8', errors='replace') as f:\n",
    "            for line in f.readlines():\n",
    "                xml_code += (line)\n",
    "        root = etree.fromstring(xml_code)\n",
    "        \n",
    "        for abstract_line in root[0]:\n",
    "            line = abstract_line.text\n",
    "            line = re.sub('[^A-Za-z0-9 ]+','',line)\n",
    "            papers[key]['abstract'].append(line)\n",
    "            \n",
    "        for intro_line in root[1]:\n",
    "            line = intro_line.text\n",
    "            line = re.sub('[^A-Za-z0-9 ]+','',line)\n",
    "            papers[key]['introduction'].append(line)\n",
    "        \n",
    "        len_intro = len(papers[key]['introduction'])\n",
    "        len_abst = len(papers[key]['abstract'])\n",
    "        \n",
    "        if len_abst > len_intro or len_abst == 1 or len_abst > 10 or len_intro < 4 or len_intro > 40:\n",
    "            print(key)\n",
    "            raise AssertionError()\n",
    "            \n",
    "    except:\n",
    "        del papers[key]\n",
    "        problem.append(key)"
   ]
  },
  {
   "cell_type": "code",
   "execution_count": 13,
   "metadata": {},
   "outputs": [
    {
     "name": "stdout",
     "output_type": "stream",
     "text": [
      "['A00-2032', 'A92-1018', 'A97-1028', 'C00-2095', 'C02-1049', 'C02-1050', 'C04-1061', 'C04-1091', 'C04-1126', 'C04-1194', 'C08-1062', 'C08-1107', 'C10-1070', 'C10-2017', 'C10-2023', 'C10-2049', 'C10-2139', 'C10-2164', 'C10-2167', 'C90-2039', 'C90-3046', 'C92-1060', 'C92-2068', 'C94-2143', 'C94-2154', 'C94-2204', 'C96-1076', 'D08-1032', 'D09-1086', 'D09-1101', 'D10-1042', 'D10-1073', 'D11-1056', 'D11-1059', 'D12-1003', 'D12-1046', 'D12-1086', 'D12-1094', 'D12-1125', 'D12-1127', 'D12-1133', 'D13-1004', 'D13-1031', 'D13-1032', 'D13-1033', 'D13-1155', 'E03-1007', 'E03-1020', 'E06-1004', 'E09-1025', 'E09-1079', 'E12-1054', 'E12-2021', 'E93-1008', 'E95-1024', 'E99-1001', 'E99-1024', 'E99-1025', 'H01-1001', 'H01-1010', 'H01-1062', 'H05-1003', 'H05-1115', 'H91-1046', 'H92-1022', 'I05-3030', 'I08-1070', 'I08-4009', 'I08-4030', 'ICDAR99', 'J00-3003', 'J01-2002', 'J01-3003', 'J02-2003', 'J03-1005', 'J04-1003', 'J04-2003', 'J04-4002', 'J05-1004', 'J06-1004', 'J06-2001', 'J07-4005', 'J09-3004', 'J10-3003', 'J11-1005', 'J12-1003', 'J13-1007', 'J13-1008', 'J13-1009', 'J13-2001', 'J93-1001', 'J93-2006', 'J98-2005', 'J98-4004', 'J99-1002', 'J99-1004', 'M98-1003', 'N01-1011', 'N03-1010', 'N03-1027', 'N03-3004', 'N06-1027', 'N06-1043', 'N06-1044', 'N06-2021', 'N07-3010', 'N09-1007', 'N09-1048', 'N09-3012', 'N09_qwn', 'N12-1045', 'N13-1099', 'N13-1140', 'P00175', 'P01-1017', 'P01-1027', 'P02-1061', 'P03-1009', 'P03-1039', 'P04-1080', 'P04-2007', 'P04470', 'P06-1005', 'P06-1011', 'P06-1039', 'P06-1059', 'P06-1089', 'P06-1109', 'P06-2060', 'P06-2094', 'P06-2123', 'P06128', 'P07-1058', 'P07-1106', 'P07-2007', 'P08-1078', 'P08-2003', 'P08-2023', 'P09-1083', 'P09-1098', 'P09-2063', 'P09207_w11', 'P10-1020', 'P10-1068', 'P10-1124', 'P10-1142', 'P10-2055', 'P10111', 'P101167', 'P1018', 'P11-1062', 'P11-1087', 'P11-1109', 'P11-1159', 'P11-2037', 'P11-2122', 'P11-2124', 'P12-1013', 'P12-1016', 'P12-1027', 'P12-2002', 'P12-2023', 'P12-2031', 'P13-1059', 'P13-1062', 'P13-1102', 'P13-1107', 'P13-1121', 'P13-1131', 'P13-1138', 'P13-1150', 'P13-2036', 'P13-3009', 'P134_n09', 'P1605_w11', 'P170300_w06', 'P22324_w09', 'P283_w09', 'P28_n09', 'P55-62_p00', 'P59105ca', 'P6230', 'P91-1031', 'P91-1041', 'P91-1042', 'P99-1051', 'PE2006_p00', 'PSS07_w06', 'PTASL_n09', 'PTP_n09', 'Pblohm_w06', 'Pbulletin', 'Pcoling_D10', 'Pfram_w06', 'Plex_p00', 'Pling_p07', 'Pmendt_w11', 'Pmessage', 'Pproc14_w11', 'S0885', 'S13-1039', 'S13-2038', 'W00-0733', 'W01-0712', 'W01-1404', 'W01-1407', 'W01-1408', 'W01-1627', 'W02-0812', 'W02-1004', 'W02-1011', 'W03-0423', 'W03-0910', 'W03-1728', 'W04-0813', 'W04-2424', 'W04-2606', 'W05-1518', 'W06-0118', 'W06-2611', 'W06-3325', 'W06-3812', 'W07-0909', 'W08-0335', 'W08-0602', 'W08-0611', 'W08-0703', 'W08-2207', 'W09-1309', 'W10-1012', 'W10-1704', 'W10-1727', 'W10-3909', 'W10-4135', 'W10-4138', 'W11-0301', 'W11-1104', 'W11-1215', 'W11-2135', 'W11-2145', 'W11-2147', 'W11-2206', 'W11-2214', 'W11-2605', 'W12-1003', 'W12-1616', 'W12-1634', 'W12-1914', 'W12-3141', 'W12-3144', 'W12-4006', 'W12-6201', 'W12-6202', 'W12-6205', 'W12-6209', 'W12-6211', 'W12-6212', 'W12-6213', 'W13-1006', 'W13-2501', 'W13-2512', 'W13-4002', 'W13-4011', 'W13-4047', 'W13-4904', 'W13-4916', 'W13-4917', 'W93-0111', 'W97-1307', 'W97-1503', 'W97-1506', 'W99-0503', 'W99-0612', 'W99-0632', 'X96-1048']\n"
     ]
    }
   ],
   "source": [
    "print(problem)"
   ]
  },
  {
   "cell_type": "code",
   "execution_count": 8,
   "metadata": {
    "collapsed": true
   },
   "outputs": [],
   "source": [
    "?papers"
   ]
  },
  {
   "cell_type": "code",
   "execution_count": 9,
   "metadata": {
    "collapsed": true
   },
   "outputs": [],
   "source": [
    "import json\n",
    "with open('data.json', 'w') as fp:\n",
    "    json.dump(papers, fp)"
   ]
  }
 ],
 "metadata": {
  "kernelspec": {
   "display_name": "Python 3",
   "language": "python",
   "name": "python3"
  },
  "language_info": {
   "codemirror_mode": {
    "name": "ipython",
    "version": 3
   },
   "file_extension": ".py",
   "mimetype": "text/x-python",
   "name": "python",
   "nbconvert_exporter": "python",
   "pygments_lexer": "ipython3",
   "version": "3.6.1"
  }
 },
 "nbformat": 4,
 "nbformat_minor": 2
}
